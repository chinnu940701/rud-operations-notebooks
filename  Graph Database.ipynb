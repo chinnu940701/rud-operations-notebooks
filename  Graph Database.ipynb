{
 "cells": [
  {
   "cell_type": "markdown",
   "id": "53e1a8d0-aefa-4335-a8d0-330d64d9b14f",
   "metadata": {},
   "source": [
    "## Neo4j Operations\n",
    "\n",
    "In this section, we will demonstrate how to connect to a  Neo4j Graph Database and perform basic CRUD operations. We will use the `GraphDatabase` library.\n",
    "\n"
   ]
  },
  {
   "cell_type": "code",
   "execution_count": null,
   "id": "e5c20804-541f-4736-9c61-966a074ec888",
   "metadata": {},
   "outputs": [],
   "source": [
    "pip install neo4j"
   ]
  },
  {
   "cell_type": "markdown",
   "id": "1ac51340-1636-4ed4-9f91-21535a5fc530",
   "metadata": {},
   "source": [
    "Setup Connection"
   ]
  },
  {
   "cell_type": "code",
   "execution_count": 36,
   "id": "50b19e20-5726-4f18-a25f-ec7de08bb4ca",
   "metadata": {},
   "outputs": [],
   "source": [
    "from neo4j import GraphDatabase\n",
    "\n",
    "# Replace with your Neo4j credentials and URL\n",
    "uri = \"bolt://localhost:7687\"\n",
    "username = \"neo4j\"\n",
    "password = \"daanvi19\"\n",
    "\n",
    "driver = GraphDatabase.driver(uri, auth=(username, password))\n"
   ]
  },
  {
   "cell_type": "markdown",
   "id": "6ab2da89-2154-4060-b225-eb4717dfabbb",
   "metadata": {},
   "source": [
    "Define Query Execution Function"
   ]
  },
  {
   "cell_type": "code",
   "execution_count": 38,
   "id": "59fc5d78-a8de-43c0-97c8-8d30c75823ab",
   "metadata": {},
   "outputs": [],
   "source": [
    "def execute_query(query, parameters=None):\n",
    "    with driver.session() as session:\n",
    "        result = session.run(query, parameters)\n",
    "        return result.data()\n"
   ]
  },
  {
   "cell_type": "markdown",
   "id": "8b2dbad4-264e-4c0f-a0a8-249d08fd2f4a",
   "metadata": {},
   "source": [
    "Create Nodes and Relationships"
   ]
  },
  {
   "cell_type": "code",
   "execution_count": 40,
   "id": "c10175d6-5b87-45cb-9a26-d21180aa05cc",
   "metadata": {},
   "outputs": [
    {
     "data": {
      "text/plain": [
       "[]"
      ]
     },
     "execution_count": 40,
     "metadata": {},
     "output_type": "execute_result"
    }
   ],
   "source": [
    "# Create departments\n",
    "execute_query(\"CREATE (d1:Department {name: 'Engineering'})\")\n",
    "execute_query(\"CREATE (d2:Department {name: 'Marketing'})\")\n",
    "\n",
    "# Create employees\n",
    "execute_query(\"CREATE (e1:Employee {name: 'Alice', title: 'Engineer'})\")\n",
    "execute_query(\"CREATE (e2:Employee {name: 'Bob', title: 'Marketer'})\")\n",
    "\n",
    "# Establish relationships\n",
    "execute_query(\"\"\"\n",
    "    MATCH (e:Employee {name: 'Alice'}), (d:Department {name: 'Engineering'})\n",
    "    CREATE (e)-[:WORKS_IN]->(d)\n",
    "\"\"\")\n",
    "\n",
    "execute_query(\"\"\"\n",
    "    MATCH (e:Employee {name: 'Bob'}), (d:Department {name: 'Marketing'})\n",
    "    CREATE (e)-[:WORKS_IN]->(d)\n",
    "\"\"\")\n"
   ]
  },
  {
   "cell_type": "markdown",
   "id": "9840dff5-8f6a-44cf-9043-c0cd92355346",
   "metadata": {},
   "source": [
    "Retrieve All Employees in a Specific Department"
   ]
  },
  {
   "cell_type": "code",
   "execution_count": 22,
   "id": "3a896a5a-f602-48f3-9e8f-bcdd10d22148",
   "metadata": {},
   "outputs": [
    {
     "name": "stdout",
     "output_type": "stream",
     "text": [
      "['Alice', 'Alice', 'Alice', 'Alice', 'Alice']\n"
     ]
    }
   ],
   "source": [
    "def get_employees_in_department(department_name):\n",
    "    query = \"\"\"\n",
    "    MATCH (e:Employee)-[:WORKS_IN]->(d:Department {name: $department_name})\n",
    "    RETURN e.name AS employee_name\n",
    "    \"\"\"\n",
    "    result = execute_query(query, parameters={\"department_name\": department_name})\n",
    "    return [record['employee_name'] for record in result]\n",
    "\n",
    "# Retrieve employees in 'Engineering'\n",
    "employees_in_engineering = get_employees_in_department('Engineering')\n",
    "print(employees_in_engineering)\n"
   ]
  },
  {
   "cell_type": "code",
   "execution_count": null,
   "id": "62f55a4b-7e92-4a44-9feb-5477c1984ff1",
   "metadata": {},
   "outputs": [],
   "source": [
    "Update an Employee's Department"
   ]
  },
  {
   "cell_type": "code",
   "execution_count": 24,
   "id": "15e518db-da27-441a-9f2c-5c8b45cde693",
   "metadata": {},
   "outputs": [],
   "source": [
    "def update_employee_department(employee_name, new_department_name):\n",
    "    query = \"\"\"\n",
    "    MATCH (e:Employee {name: $employee_name})\n",
    "    MATCH (d:Department {name: $new_department_name})\n",
    "    OPTIONAL MATCH (e)-[r:WORKS_IN]->()\n",
    "    DELETE r\n",
    "    CREATE (e)-[:WORKS_IN]->(d)\n",
    "    \"\"\"\n",
    "    execute_query(query, parameters={\"employee_name\": employee_name, \"new_department_name\": new_department_name})\n",
    "\n",
    "# Update Alice's department to 'Marketing'\n",
    "update_employee_department('Alice', 'Marketing')\n"
   ]
  },
  {
   "cell_type": "markdown",
   "id": "47dffd0a-0166-4424-97e9-72f57e32d40d",
   "metadata": {},
   "source": [
    "Remove an Employee from the Graph"
   ]
  },
  {
   "cell_type": "code",
   "execution_count": 26,
   "id": "51f425f6-ca0b-49b2-a7dd-9ee9cf31d9b5",
   "metadata": {},
   "outputs": [],
   "source": [
    "def remove_employee(employee_name):\n",
    "    query = \"\"\"\n",
    "    MATCH (e:Employee {name: $employee_name})\n",
    "    OPTIONAL MATCH (e)-[r:WORKS_IN]->()\n",
    "    DELETE r, e\n",
    "    \"\"\"\n",
    "    execute_query(query, parameters={\"employee_name\": employee_name})\n",
    "\n",
    "# Remove Bob from the graph\n",
    "remove_employee('Bob')\n"
   ]
  },
  {
   "cell_type": "markdown",
   "id": "e988c50f-6479-4384-82db-cbc6e06ef791",
   "metadata": {},
   "source": [
    "Visualize or Output Results"
   ]
  },
  {
   "cell_type": "code",
   "execution_count": 28,
   "id": "3ae602fb-a9ab-4812-b7d6-2d5540e89e24",
   "metadata": {},
   "outputs": [
    {
     "data": {
      "text/html": [
       "<div>\n",
       "<style scoped>\n",
       "    .dataframe tbody tr th:only-of-type {\n",
       "        vertical-align: middle;\n",
       "    }\n",
       "\n",
       "    .dataframe tbody tr th {\n",
       "        vertical-align: top;\n",
       "    }\n",
       "\n",
       "    .dataframe thead th {\n",
       "        text-align: right;\n",
       "    }\n",
       "</style>\n",
       "<table border=\"1\" class=\"dataframe\">\n",
       "  <thead>\n",
       "    <tr style=\"text-align: right;\">\n",
       "      <th></th>\n",
       "      <th>Employee Name</th>\n",
       "    </tr>\n",
       "  </thead>\n",
       "  <tbody>\n",
       "  </tbody>\n",
       "</table>\n",
       "</div>"
      ],
      "text/plain": [
       "Empty DataFrame\n",
       "Columns: [Employee Name]\n",
       "Index: []"
      ]
     },
     "execution_count": 28,
     "metadata": {},
     "output_type": "execute_result"
    }
   ],
   "source": [
    "import pandas as pd\n",
    "\n",
    "# Example to visualize employees in 'Engineering'\n",
    "employees_in_engineering = get_employees_in_department('Engineering')\n",
    "df = pd.DataFrame(employees_in_engineering, columns=['Employee Name'])\n",
    "df\n"
   ]
  },
  {
   "cell_type": "markdown",
   "id": "7cef363f-405a-4e48-ac0c-62ebac4c4675",
   "metadata": {},
   "source": [
    "Neo4j Considerations\n",
    "\n",
    "1.Hierarchical Data: Ideal for modeling and querying complex hierarchical structures.\n",
    "\n",
    "2.Relationship Efficiency: Optimized for handling and traversing relationships.\n",
    "\n",
    "3.Performance: Scales well for large graphs with fast traversal capabilities.\n",
    "\n",
    "4.Scalability: Supports clustering for distributed data storage and processing.\n",
    "\n",
    "5.Flexible Modeling: Schema-optional, allowing easy adaptation to changing requirements."
   ]
  }
 ],
 "metadata": {
  "kernelspec": {
   "display_name": "Python 3 (ipykernel)",
   "language": "python",
   "name": "python3"
  },
  "language_info": {
   "codemirror_mode": {
    "name": "ipython",
    "version": 3
   },
   "file_extension": ".py",
   "mimetype": "text/x-python",
   "name": "python",
   "nbconvert_exporter": "python",
   "pygments_lexer": "ipython3",
   "version": "3.12.4"
  }
 },
 "nbformat": 4,
 "nbformat_minor": 5
}
