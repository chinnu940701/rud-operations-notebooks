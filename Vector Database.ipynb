{
 "cells": [
  {
   "cell_type": "markdown",
   "id": "7d31c1ea-1264-434f-9bdf-b9d25d2ae764",
   "metadata": {},
   "source": [
    "## Weaviate Operations\r\n",
    "\r\n",
    "In this section, we will demonstrate how to connect to a Weaviate vector database and perform basic CRUD operations. We will use the `weaviate-client` library.\r\n"
   ]
  },
  {
   "cell_type": "markdown",
   "id": "da449a03-364d-4877-95a2-355164b2b9f3",
   "metadata": {},
   "source": [
    " Connect to Weaviate"
   ]
  },
  {
   "cell_type": "code",
   "execution_count": 57,
   "id": "52512d87-bcdb-466e-8163-c618cc11659f",
   "metadata": {},
   "outputs": [
    {
     "name": "stdout",
     "output_type": "stream",
     "text": [
      "Weaviate connection is successful.\n"
     ]
    }
   ],
   "source": [
    "from weaviate import Client\n",
    "\n",
    "# Set up the Weaviate client\n",
    "client = Client(\"http://localhost:8080\")\n",
    "\n",
    "# Verify the connection\n",
    "if client.is_ready():\n",
    "    print(\"Weaviate connection is successful.\")\n",
    "else:\n",
    "    print(\"Failed to connect to Weaviate.\")\n"
   ]
  },
  {
   "cell_type": "markdown",
   "id": "f9b25a3b-0def-4752-9555-dd6d60992a50",
   "metadata": {},
   "source": [
    "Schema Management"
   ]
  },
  {
   "cell_type": "code",
   "execution_count": 11,
   "id": "153d40f8-e770-4065-9608-933a59cca093",
   "metadata": {},
   "outputs": [
    {
     "name": "stdout",
     "output_type": "stream",
     "text": [
      "Schema created successfully.\n"
     ]
    }
   ],
   "source": [
    "from weaviate import Client\n",
    "\n",
    "client = Client(\"http://localhost:8080\")\n",
    "\n",
    "# Define the schema\n",
    "schema = {\n",
    "    \"classes\": [\n",
    "        {\n",
    "            \"class\": \"Person\",  # The name of the class\n",
    "            \"description\": \"A class for storing person data\",\n",
    "            \"properties\": [\n",
    "                {\n",
    "                    \"name\": \"name\",\n",
    "                    \"dataType\": [\"string\"]\n",
    "                },\n",
    "                {\n",
    "                    \"name\": \"age\",\n",
    "                    \"dataType\": [\"int\"]\n",
    "                }\n",
    "            ]\n",
    "        }\n",
    "    ]\n",
    "}\n",
    "\n",
    "# Create the schema in Weaviate\n",
    "client.schema.create(schema)\n",
    "\n",
    "print(\"Schema created successfully.\")\n"
   ]
  },
  {
   "cell_type": "markdown",
   "id": "84938870-7168-47ed-9372-394ca720dce2",
   "metadata": {},
   "source": [
    "Data Ingestion"
   ]
  },
  {
   "cell_type": "code",
   "execution_count": 13,
   "id": "9caf890b-4b8c-4e96-93d4-5733e6cf5477",
   "metadata": {},
   "outputs": [
    {
     "name": "stdout",
     "output_type": "stream",
     "text": [
      "Data inserted successfully.\n"
     ]
    }
   ],
   "source": [
    "data_object = {\n",
    "    \"name\": \"Alice\",\n",
    "    \"age\": 30\n",
    "}\n",
    "\n",
    "client.data_object.create(data_object, class_name=\"Person\")\n",
    "\n",
    "print(\"Data inserted successfully.\")\n"
   ]
  },
  {
   "cell_type": "markdown",
   "id": "2bbe5139-ba7d-4026-b959-9c1d8cd0ae1f",
   "metadata": {},
   "source": [
    "Querying Data"
   ]
  },
  {
   "cell_type": "code",
   "execution_count": 15,
   "id": "29364c0b-b2f2-4950-ac54-d882d762df20",
   "metadata": {},
   "outputs": [
    {
     "name": "stdout",
     "output_type": "stream",
     "text": [
      "{'age': 30, 'name': 'Alice'}\n"
     ]
    }
   ],
   "source": [
    "results = client.query.get(\"Person\", [\"name\", \"age\"]).do()\n",
    "\n",
    "for result in results[\"data\"][\"Get\"][\"Person\"]:\n",
    "    print(result)\n",
    "\n"
   ]
  },
  {
   "cell_type": "markdown",
   "id": "b95d6cb3-bc15-4b67-997a-913d63e45671",
   "metadata": {},
   "source": [
    " Updating and Deleting Data"
   ]
  },
  {
   "cell_type": "code",
   "execution_count": 51,
   "id": "df377e0d-d481-4454-a108-e0b848517b06",
   "metadata": {},
   "outputs": [],
   "source": [
    "def update_object(uuid, updated_data, class_name):\n",
    "    client.data_object.update(\n",
    "        uuid=uuid,  # the UUID of the object to update\n",
    "        class_name=class_name,  # the class name of the object\n",
    "        properties=updated_data  # the updated properties\n",
    "    )\n",
    "    print(\"Data updated successfully.\")\n"
   ]
  },
  {
   "cell_type": "code",
   "execution_count": 55,
   "id": "9d0fad72-6983-4710-bfe6-3f817088f74e",
   "metadata": {},
   "outputs": [
    {
     "name": "stdout",
     "output_type": "stream",
     "text": [
      "Data deleted successfully.\n"
     ]
    },
    {
     "name": "stderr",
     "output_type": "stream",
     "text": [
      "C:\\Users\\succe\\anaconda3\\Lib\\site-packages\\weaviate\\data\\crud_data.py:725: DeprecationWarning: Weaviate Server version >= 1.14.x STRONGLY recommends using class namespaced APIs. To use class namespaced APIs, specify the `class_name` argument. Non-class namespaced APIs (None value for `to_object_class_name`) will be removed in future versions of the Weaviate Server and Weaviate Python Client.\n",
      "  warnings.warn(\n"
     ]
    }
   ],
   "source": [
    "# Define the UUID of the object to delete\n",
    "object_uuid = \"6c854718-78bd-425d-a11d-5cc03390e846\"\n",
    "\n",
    "# Delete the data\n",
    "client.data_object.delete(object_uuid)\n",
    "\n",
    "print(\"Data deleted successfully.\")\n"
   ]
  },
  {
   "cell_type": "markdown",
   "id": "b14ea3f8-6bc2-41d6-8451-8b81e2a65eae",
   "metadata": {},
   "source": [
    "Considerations for Using Weaviate as a Vector Database\n",
    "\n",
    "1.Semantic Search: Weaviate excels at semantic search by leveraging vector representations for similarity.\n",
    "\n",
    "2.Scalability:  Supports distributed storage and querying to handle large datasets efficiently.\n",
    "\n",
    "3.Hybrid Search:  Combines vector search with traditional filters for powerful querying capabilities.\n",
    "\n",
    "4.Extensibility:  Easily integrates with machine learning models for custom embeddings.\n",
    "\n",
    "5.Real-Time Updates: Supports real-time data ingestion and instant availability for search."
   ]
  }
 ],
 "metadata": {
  "kernelspec": {
   "display_name": "Python 3 (ipykernel)",
   "language": "python",
   "name": "python3"
  },
  "language_info": {
   "codemirror_mode": {
    "name": "ipython",
    "version": 3
   },
   "file_extension": ".py",
   "mimetype": "text/x-python",
   "name": "python",
   "nbconvert_exporter": "python",
   "pygments_lexer": "ipython3",
   "version": "3.12.4"
  }
 },
 "nbformat": 4,
 "nbformat_minor": 5
}
