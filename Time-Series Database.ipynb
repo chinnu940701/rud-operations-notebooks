{
 "cells": [
  {
   "cell_type": "markdown",
   "id": "5bb15010-d34f-493a-af0c-245d958e26da",
   "metadata": {},
   "source": [
    " implementing CRUD operations for monitoring and metrics using InfluxDB as your time-series database."
   ]
  },
  {
   "cell_type": "markdown",
   "id": "4783c135-7bed-44cc-954b-8d9d3aec4357",
   "metadata": {},
   "source": [
    "Insert New Metric Data Points"
   ]
  },
  {
   "cell_type": "code",
   "execution_count": 25,
   "id": "229ca4ea-95da-4bbf-a188-0e58cca11110",
   "metadata": {},
   "outputs": [
    {
     "name": "stdout",
     "output_type": "stream",
     "text": [
      "Data point written successfully.\n"
     ]
    }
   ],
   "source": [
    "from influxdb_client import InfluxDBClient, Point\n",
    "from influxdb_client.client.write_api import SYNCHRONOUS\n",
    "\n",
    "# Connection details\n",
    "token = \"TSN_9-4jRibpffphvbxhU8QQ4U-p5EwlaedqD-BND1exkzt042matySad93ZrUxQrijt6ZptQwUcReLdNjmPEA==\"\n",
    "org = \"Hydralogic\"\n",
    "bucket = \"server_metrics\"\n",
    "url = \"http://localhost:8086\"\n",
    "\n",
    "# Initialize client\n",
    "client = InfluxDBClient(url=url, token=token, org=org)\n",
    "write_api = client.write_api(write_options=SYNCHRONOUS)\n",
    "\n",
    "# Create a point and write it\n",
    "point = Point(\"cpu\") \\\n",
    "    .tag(\"host\", \"server01\") \\\n",
    "    .field(\"usage\", 45.5) \\\n",
    "    .time(\"2024-08-11T11:16:31.094878Z\")  # Optional: If not provided, InfluxDB will use the current timestamp\n",
    "\n",
    "write_api.write(bucket=bucket, org=org, record=point)\n",
    "print(\"Data point written successfully.\")\n"
   ]
  },
  {
   "cell_type": "markdown",
   "id": "17d653bf-2786-40cf-98ef-17ab6723723d",
   "metadata": {},
   "source": [
    "Retrieve Metrics Within a Specific Time Range"
   ]
  },
  {
   "cell_type": "code",
   "execution_count": 19,
   "id": "686fcad6-bea8-49fc-8ccf-b7a6d8fbed29",
   "metadata": {},
   "outputs": [
    {
     "name": "stdout",
     "output_type": "stream",
     "text": [
      "Time: 2024-08-11 11:16:31.094878+00:00, Host: server01, Usage: 45.5\n"
     ]
    }
   ],
   "source": [
    "from influxdb_client.client.query_api import QueryApi\n",
    "\n",
    "# Query data from the last 1 hour\n",
    "query = f'''\n",
    "from(bucket: \"{bucket}\")\n",
    "  |> range(start: -1h)\n",
    "  |> filter(fn: (r) => r[\"_measurement\"] == \"cpu\")\n",
    "  |> filter(fn: (r) => r[\"host\"] == \"server01\")\n",
    "'''\n",
    "\n",
    "query_api = client.query_api()\n",
    "tables = query_api.query(query, org=org)\n",
    "\n",
    "for table in tables:\n",
    "    for record in table.records:\n",
    "        print(f'Time: {record.get_time()}, Host: {record[\"host\"]}, Usage: {record.get_value()}')\n"
   ]
  },
  {
   "cell_type": "markdown",
   "id": "9a4523cc-7df0-4cb3-adcb-906881fa8fe1",
   "metadata": {},
   "source": [
    "Update Existing Metric Data"
   ]
  },
  {
   "cell_type": "code",
   "execution_count": 21,
   "id": "83c3c392-5062-4562-9a3c-015c24a9fa42",
   "metadata": {},
   "outputs": [
    {
     "name": "stdout",
     "output_type": "stream",
     "text": [
      "Data point updated successfully.\n"
     ]
    }
   ],
   "source": [
    "# Updating the same data point with new field value\n",
    "point = Point(\"cpu\") \\\n",
    "    .tag(\"host\", \"server01\") \\\n",
    "    .field(\"usage\", 50.5) \\\n",
    "    .time(\"2024-08-11T11:16:31.094878Z\")  # Same timestamp to overwrite\n",
    "\n",
    "write_api.write(bucket=bucket, org=org, record=point)\n",
    "print(\"Data point updated successfully.\")\n"
   ]
  },
  {
   "cell_type": "markdown",
   "id": "9f3a058c-9424-4f5e-9adc-7f935474e8d0",
   "metadata": {},
   "source": [
    "Delete Old Metric Data"
   ]
  },
  {
   "cell_type": "code",
   "execution_count": 23,
   "id": "cf1e13a5-ecd3-4727-91aa-562518eea843",
   "metadata": {},
   "outputs": [
    {
     "name": "stdout",
     "output_type": "stream",
     "text": [
      "Data points deleted successfully.\n"
     ]
    }
   ],
   "source": [
    "from influxdb_client.client.delete_api import DeleteApi\n",
    "from datetime import datetime, timezone\n",
    "\n",
    "# Initialize delete API\n",
    "delete_api = client.delete_api()\n",
    "\n",
    "# Define time range for deletion\n",
    "start = datetime(2023, 1, 1, 0, 0, 0, tzinfo=timezone.utc)\n",
    "stop = datetime(2023, 12, 31, 23, 59, 59, tzinfo=timezone.utc)\n",
    "\n",
    "# Delete data within the specified time range\n",
    "delete_api.delete(start, stop, f'_measurement=\"cpu\" AND host=\"server01\"', bucket=bucket, org=org)\n",
    "print(\"Data points deleted successfully.\")\n"
   ]
  },
  {
   "cell_type": "markdown",
   "id": "78bcde0f-c013-468e-891d-9562488ecbaf",
   "metadata": {},
   "source": [
    "Considerations\n",
    "\n",
    "1.Optimized Performance: Time-series databases are designed to handle high-volume, real-time data efficiently, ensuring fast reads and writes.\n",
    "\n",
    "2.Efficient Data Storage: Use retention policies and compression to manage storage, automatically removing outdated data and saving space.\n",
    "\n",
    "3.Scalable Querying: Powerful query languages support complex analysis across large datasets, making it easier to extract meaningful insights.\n",
    "\n",
    "4.Time-Based Indexing: Time-series databases leverage time-based indexing, which improves query performance and data retrieval speed.\n",
    "\n",
    "5.Downsampling: Automatically downsample data to store summary statistics (e.g., hourly averages), reducing data granularity while retaining critical trends."
   ]
  },
  {
   "cell_type": "code",
   "execution_count": null,
   "id": "d2a7937c-3901-4dd1-bae9-4bb1de0a240e",
   "metadata": {},
   "outputs": [],
   "source": []
  }
 ],
 "metadata": {
  "kernelspec": {
   "display_name": "Python 3 (ipykernel)",
   "language": "python",
   "name": "python3"
  },
  "language_info": {
   "codemirror_mode": {
    "name": "ipython",
    "version": 3
   },
   "file_extension": ".py",
   "mimetype": "text/x-python",
   "name": "python",
   "nbconvert_exporter": "python",
   "pygments_lexer": "ipython3",
   "version": "3.12.4"
  }
 },
 "nbformat": 4,
 "nbformat_minor": 5
}
