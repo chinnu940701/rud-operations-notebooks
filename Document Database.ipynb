{
 "cells": [
  {
   "cell_type": "markdown",
   "id": "d9e4f115-fe30-4e66-b165-0802ec70e1db",
   "metadata": {},
   "source": [
    "MongoDB Operations\n",
    "In this section, we will demonstrate how to connect to a MongoDB database and perform basic CRUD operations. We will use the pymongo library for these operations."
   ]
  },
  {
   "cell_type": "markdown",
   "id": "167d957c-1a7e-4684-95d9-e4a452324819",
   "metadata": {},
   "source": [
    "Install MongoDB and pymongo"
   ]
  },
  {
   "cell_type": "code",
   "execution_count": null,
   "id": "a625c8e0-6406-44d4-a2cd-0e972f82299e",
   "metadata": {},
   "outputs": [],
   "source": [
    "pip install pymongo\n"
   ]
  },
  {
   "cell_type": "markdown",
   "id": "d8abd78b-70d3-4b21-b806-fc6943f80582",
   "metadata": {},
   "source": [
    "Connect to MongoDB"
   ]
  },
  {
   "cell_type": "code",
   "execution_count": 1,
   "id": "ffaacd01-65ce-498f-a37b-c5d3e4048f6c",
   "metadata": {},
   "outputs": [],
   "source": [
    "import pymongo\n",
    "\n",
    "# Create a MongoDB client\n",
    "client = pymongo.MongoClient(\"mongodb://localhost:27017/\")\n",
    "\n",
    "# Create or access a database\n",
    "db = client[\"mydatabase\"]\n"
   ]
  },
  {
   "cell_type": "markdown",
   "id": "7fe9c0ed-cbd8-4235-9296-a959f6d84af3",
   "metadata": {},
   "source": [
    "Create a Collection"
   ]
  },
  {
   "cell_type": "code",
   "execution_count": 3,
   "id": "4b12ae38-20ba-48f2-8bf3-56b71c4f654b",
   "metadata": {},
   "outputs": [],
   "source": [
    "# Create or access a collection\n",
    "collection = db[\"users\"]\n"
   ]
  },
  {
   "cell_type": "markdown",
   "id": "d9aa52db-f4d3-4b24-9f10-9748a0e77d50",
   "metadata": {},
   "source": [
    "Insert Data"
   ]
  },
  {
   "cell_type": "code",
   "execution_count": 5,
   "id": "fd38c1ef-38cd-442e-a1ea-76ad5656ccee",
   "metadata": {},
   "outputs": [
    {
     "data": {
      "text/plain": [
       "InsertManyResult([ObjectId('66b5fa0b842eda013c033eb2'), ObjectId('66b5fa0b842eda013c033eb3')], acknowledged=True)"
      ]
     },
     "execution_count": 5,
     "metadata": {},
     "output_type": "execute_result"
    }
   ],
   "source": [
    "# Single document\n",
    "user = {\"name\": \"John Doe\", \"email\": \"john.doe@example.com\"}\n",
    "collection.insert_one(user)\n",
    "\n",
    "# Multiple documents\n",
    "users = [\n",
    "    {\"name\": \"Jane Smith\", \"email\": \"jane.smith@example.com\"},\n",
    "    {\"name\": \"Alice Johnson\", \"email\": \"alice.johnson@example.com\"}\n",
    "]\n",
    "collection.insert_many(users)\n"
   ]
  },
  {
   "cell_type": "markdown",
   "id": "1196c92a-2311-4f11-85ba-55f0510ef385",
   "metadata": {},
   "source": [
    "Read Data"
   ]
  },
  {
   "cell_type": "code",
   "execution_count": 7,
   "id": "5669d72d-ee90-42f0-bc65-48b0aa10fe95",
   "metadata": {},
   "outputs": [
    {
     "name": "stdout",
     "output_type": "stream",
     "text": [
      "{'_id': ObjectId('66b5fa0b842eda013c033eb1'), 'name': 'John Doe', 'email': 'john.doe@example.com'}\n",
      "{'_id': ObjectId('66b5f8b2dfd408252aee7585'), 'name': 'Alice Johnson', 'email': 'alice.johnson@example.com'}\n",
      "{'_id': ObjectId('66b5fa0b842eda013c033eb1'), 'name': 'John Doe', 'email': 'john.doe@example.com'}\n",
      "{'_id': ObjectId('66b5fa0b842eda013c033eb2'), 'name': 'Jane Smith', 'email': 'jane.smith@example.com'}\n",
      "{'_id': ObjectId('66b5fa0b842eda013c033eb3'), 'name': 'Alice Johnson', 'email': 'alice.johnson@example.com'}\n"
     ]
    }
   ],
   "source": [
    "# Find one document\n",
    "user = collection.find_one({\"name\": \"John Doe\"})\n",
    "print(user)\n",
    "\n",
    "# Find all documents\n",
    "for user in collection.find():\n",
    "    print(user)\n"
   ]
  },
  {
   "cell_type": "markdown",
   "id": "2b455f09-37eb-460c-822a-179c63cfb696",
   "metadata": {},
   "source": [
    " Update Data"
   ]
  },
  {
   "cell_type": "code",
   "execution_count": 9,
   "id": "8d73973b-e522-4194-8418-a442867e7955",
   "metadata": {},
   "outputs": [
    {
     "data": {
      "text/plain": [
       "UpdateResult({'n': 1, 'nModified': 1, 'ok': 1.0, 'updatedExisting': True}, acknowledged=True)"
      ]
     },
     "execution_count": 9,
     "metadata": {},
     "output_type": "execute_result"
    }
   ],
   "source": [
    "# Update one document\n",
    "collection.update_one({\"name\": \"John Doe\"}, {\"$set\": {\"email\": \"new.email@example.com\"}})\n",
    "\n",
    "# Update multiple documents\n",
    "collection.update_many({\"name\": \"Jane Smith\"}, {\"$set\": {\"email\": \"new.email@example.com\"}})\n"
   ]
  },
  {
   "cell_type": "markdown",
   "id": "fb4c9505-aa66-4811-97b9-45fd456aa4c7",
   "metadata": {},
   "source": [
    "Delete Data"
   ]
  },
  {
   "cell_type": "code",
   "execution_count": 11,
   "id": "aba7baa6-9496-421a-bd2a-0596079fbe96",
   "metadata": {},
   "outputs": [
    {
     "data": {
      "text/plain": [
       "DeleteResult({'n': 1, 'ok': 1.0}, acknowledged=True)"
      ]
     },
     "execution_count": 11,
     "metadata": {},
     "output_type": "execute_result"
    }
   ],
   "source": [
    "# Delete one document\n",
    "collection.delete_one({\"name\": \"John Doe\"})\n",
    "\n",
    "# Delete multiple documents\n",
    "collection.delete_many({\"name\": \"Jane Smith\"})\n"
   ]
  },
  {
   "cell_type": "markdown",
   "id": "c6882884-8234-44b1-a109-a3676af83127",
   "metadata": {},
   "source": [
    " Query with Filters"
   ]
  },
  {
   "cell_type": "code",
   "execution_count": 13,
   "id": "5664462f-aa3b-40e3-b296-293cff18e2b3",
   "metadata": {},
   "outputs": [
    {
     "name": "stdout",
     "output_type": "stream",
     "text": [
      "{'_id': ObjectId('66b5f8b2dfd408252aee7585'), 'name': 'Alice Johnson', 'email': 'alice.johnson@example.com'}\n",
      "{'_id': ObjectId('66b5fa0b842eda013c033eb3'), 'name': 'Alice Johnson', 'email': 'alice.johnson@example.com'}\n"
     ]
    }
   ],
   "source": [
    "# Find documents with specific criteria\n",
    "users = collection.find({\"email\": {\"$regex\": \"@example.com\"}})\n",
    "for user in users:\n",
    "    print(user)\n"
   ]
  },
  {
   "cell_type": "markdown",
   "id": "1dbe4bb0-c56e-4b19-8dbb-8d7e4bff9461",
   "metadata": {},
   "source": [
    "Close the Connection"
   ]
  },
  {
   "cell_type": "code",
   "execution_count": 15,
   "id": "5266f105-10e2-426a-a92f-f7fcca5fffd9",
   "metadata": {},
   "outputs": [],
   "source": [
    "client.close()\n"
   ]
  },
  {
   "cell_type": "markdown",
   "id": "b8338f6e-e5ab-4103-82df-57d569409552",
   "metadata": {},
   "source": [
    "Considerations:\n",
    "\n",
    "Justification: Document databases like MongoDB handle semi-structured data well, allowing for flexible schema design.\n",
    "Scaling: Utilize sharding to distribute data across nodes, and consider replication for high availability."
   ]
  }
 ],
 "metadata": {
  "kernelspec": {
   "display_name": "Python 3 (ipykernel)",
   "language": "python",
   "name": "python3"
  },
  "language_info": {
   "codemirror_mode": {
    "name": "ipython",
    "version": 3
   },
   "file_extension": ".py",
   "mimetype": "text/x-python",
   "name": "python",
   "nbconvert_exporter": "python",
   "pygments_lexer": "ipython3",
   "version": "3.12.4"
  }
 },
 "nbformat": 4,
 "nbformat_minor": 5
}
