{
 "cells": [
  {
   "cell_type": "markdown",
   "id": "43d66f87-1de4-43fa-a7c8-91e3eab14205",
   "metadata": {},
   "source": [
    "Redis Operations\n",
    "In this section, we will demonstrate how to connect to Redis Key-Value Pair Database and perform basic CRUD operations. We will use the redis library."
   ]
  },
  {
   "cell_type": "markdown",
   "id": "d0b7b010-b379-45c0-9992-694d6cc5f7ed",
   "metadata": {},
   "source": [
    "Install Required Python Libraries"
   ]
  },
  {
   "cell_type": "code",
   "execution_count": null,
   "id": "b076d628-95d2-4bf8-b433-ab2277be0903",
   "metadata": {},
   "outputs": [],
   "source": [
    "!pip install redis"
   ]
  },
  {
   "cell_type": "markdown",
   "id": "bca18f7d-a091-438f-a7a4-c052c6e40f27",
   "metadata": {},
   "source": [
    "Connect to Redis in Jupyter Notebook"
   ]
  },
  {
   "cell_type": "code",
   "execution_count": 3,
   "id": "aa237ae2-19a7-44f5-a1c3-92e560f5fad5",
   "metadata": {},
   "outputs": [],
   "source": [
    "import redis\n",
    "\n",
    "# Connect to Redis\n",
    "r = redis.Redis(host='localhost', port=6379, db=0)\n"
   ]
  },
  {
   "cell_type": "markdown",
   "id": "1bd1975c-46a8-4a5b-b04c-22d091ac51a8",
   "metadata": {},
   "source": [
    "Create a Session with a Unique Session ID and User Data"
   ]
  },
  {
   "cell_type": "code",
   "execution_count": 5,
   "id": "6d3cf643-15c9-48b3-85dd-a11833518110",
   "metadata": {},
   "outputs": [
    {
     "name": "stdout",
     "output_type": "stream",
     "text": [
      "Created session ID: e20ff0b2-a505-478e-a770-b0a5a20ebbff\n"
     ]
    }
   ],
   "source": [
    "import uuid\n",
    "\n",
    "def create_session(user_data, expiration=3600):\n",
    "    session_id = str(uuid.uuid4())\n",
    "    r.setex(session_id, expiration, user_data)\n",
    "    return session_id\n",
    "\n",
    "# Example usage\n",
    "user_data = '{\"username\": \"john_doe\", \"email\": \"john@example.com\"}'\n",
    "session_id = create_session(user_data)\n",
    "print(f\"Created session ID: {session_id}\")\n"
   ]
  },
  {
   "cell_type": "markdown",
   "id": "d2e48ac0-671e-4c5a-bcc1-028837744916",
   "metadata": {},
   "source": [
    "Retrieve User Data by Session ID"
   ]
  },
  {
   "cell_type": "code",
   "execution_count": 7,
   "id": "4b382158-5329-4056-8e08-6ed63ab7398c",
   "metadata": {},
   "outputs": [
    {
     "name": "stdout",
     "output_type": "stream",
     "text": [
      "Retrieved data: {\"username\": \"john_doe\", \"email\": \"john@example.com\"}\n"
     ]
    }
   ],
   "source": [
    "def get_session(session_id):\n",
    "    user_data = r.get(session_id)\n",
    "    if user_data:\n",
    "        return user_data.decode('utf-8')\n",
    "    return None\n",
    "\n",
    "# Example usage\n",
    "retrieved_data = get_session(session_id)\n",
    "print(f\"Retrieved data: {retrieved_data}\")\n"
   ]
  },
  {
   "cell_type": "markdown",
   "id": "ff73806d-2078-4bb8-914e-1a1e1ff8406f",
   "metadata": {},
   "source": [
    "Update Session Data"
   ]
  },
  {
   "cell_type": "code",
   "execution_count": 9,
   "id": "f1d0b7c1-37fb-44f0-ad17-1bfe998281a3",
   "metadata": {},
   "outputs": [
    {
     "name": "stdout",
     "output_type": "stream",
     "text": [
      "Session updated: True\n"
     ]
    }
   ],
   "source": [
    "def update_session(session_id, new_user_data, expiration=3600):\n",
    "    if r.exists(session_id):\n",
    "        r.setex(session_id, expiration, new_user_data)\n",
    "        return True\n",
    "    return False\n",
    "\n",
    "# Example usage\n",
    "new_user_data = '{\"username\": \"john_doe\", \"email\": \"john.doe@example.com\"}'\n",
    "updated = update_session(session_id, new_user_data)\n",
    "print(f\"Session updated: {updated}\")\n"
   ]
  },
  {
   "cell_type": "markdown",
   "id": "319c44e6-1a91-49ee-85ca-27084bf11c98",
   "metadata": {},
   "source": [
    "Delete a Session by Session ID"
   ]
  },
  {
   "cell_type": "code",
   "execution_count": 11,
   "id": "c064ced6-9b8f-4d07-843f-c20832d820d6",
   "metadata": {},
   "outputs": [
    {
     "name": "stdout",
     "output_type": "stream",
     "text": [
      "Session deleted\n"
     ]
    }
   ],
   "source": [
    "def delete_session(session_id):\n",
    "    r.delete(session_id)\n",
    "\n",
    "# Example usage\n",
    "delete_session(session_id)\n",
    "print(f\"Session deleted\")\n"
   ]
  },
  {
   "cell_type": "markdown",
   "id": "1adbfed3-dbb7-4940-a512-07b2092c6dd5",
   "metadata": {},
   "source": [
    "Considerations for Redis:\n",
    "\n",
    "1.Memory Usage: Manage memory limits and eviction policies carefully due to Redis' in-memory nature.\n",
    "\n",
    "2.Persistence: Choose the right persistence method (RDB, AOF) based on durability and performance needs.\n",
    "\n",
    "3.Scalability: Redis Cluster supports horizontal scaling, requiring careful key distribution management.\n",
    "   \n",
    "4.Security: Implement password authentication and secure Redis with proper firewall rules.\n",
    "\n",
    "5.Data Expiration: Use TTL settings for temporary data, monitoring key expiration to prevent data loss."
   ]
  }
 ],
 "metadata": {
  "kernelspec": {
   "display_name": "Python 3 (ipykernel)",
   "language": "python",
   "name": "python3"
  },
  "language_info": {
   "codemirror_mode": {
    "name": "ipython",
    "version": 3
   },
   "file_extension": ".py",
   "mimetype": "text/x-python",
   "name": "python",
   "nbconvert_exporter": "python",
   "pygments_lexer": "ipython3",
   "version": "3.12.4"
  }
 },
 "nbformat": 4,
 "nbformat_minor": 5
}
