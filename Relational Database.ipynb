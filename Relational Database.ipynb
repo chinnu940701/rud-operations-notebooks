{
 "cells": [
  {
   "cell_type": "markdown",
   "id": "091f3811-9eee-42c7-bd84-d53a4e547f58",
   "metadata": {},
   "source": [
    "\n",
    " ## MySQL Operations\n",
    "\n",
    "In this section, we will demonstrate how to connect to MySQL Relational Database and perform basic CRUD operations. We will use the `mysql.connector` library.\n"
   ]
  },
  {
   "cell_type": "markdown",
   "id": "e15fcf67-7bfb-4959-b0b4-80992069d09e",
   "metadata": {},
   "source": [
    "Import Required Libraries and Connect to MySQL"
   ]
  },
  {
   "cell_type": "code",
   "execution_count": 47,
   "id": "e8f591bb-a3fa-4cb4-bd1b-b2f14ef00814",
   "metadata": {},
   "outputs": [
    {
     "name": "stdout",
     "output_type": "stream",
     "text": [
      "Connected to MySQL database\n",
      "User 'Alice' created successfully.\n",
      "User 'Bob' created successfully.\n",
      "User Details: ID=1, Name=Alice, Email=alice_new@example.com, Created At=2024-08-08 17:23:26\n",
      "User ID=1 email updated to 'alice_new@example.com'.\n",
      "User ID=2 deleted successfully.\n",
      "Connection closed.\n"
     ]
    }
   ],
   "source": [
    "import mysql.connector\n",
    "from mysql.connector import Error\n",
    "\n",
    "# Establish connection to MySQL server\n",
    "try:\n",
    "    conn = mysql.connector.connect(\n",
    "        host='localhost',\n",
    "        user='root',               # Replace with your MySQL username\n",
    "        password='daanvi19',  # Replace with your MySQL password\n",
    "        database='UserManagement'  # Database you created\n",
    "    )\n",
    "    \n",
    "    if conn.is_connected():\n",
    "        print(\"Connected to MySQL database\")\n",
    "\n",
    "    cursor = conn.cursor()\n",
    "\n",
    "    # Create a new user\n",
    "    def create_user(name, email):\n",
    "        try:\n",
    "            cursor.execute('''\n",
    "                INSERT INTO Users (Name, Email)\n",
    "                VALUES (%s, %s)\n",
    "            ''', (name, email))\n",
    "            conn.commit()\n",
    "            print(f\"User '{name}' created successfully.\")\n",
    "        except Error as e:\n",
    "            print(f\"Error: {e}\")\n",
    "\n",
    "    # Read user details by ID\n",
    "    def read_user(user_id):\n",
    "        try:\n",
    "            cursor.execute('''\n",
    "                SELECT * FROM Users WHERE Id = %s\n",
    "            ''', (user_id,))\n",
    "            user = cursor.fetchone()\n",
    "            if user:\n",
    "                print(f\"User Details: ID={user[0]}, Name={user[1]}, Email={user[2]}, Created At={user[3]}\")\n",
    "            else:\n",
    "                print(\"User not found.\")\n",
    "        except Error as e:\n",
    "            print(f\"Error: {e}\")\n",
    "\n",
    "    # Update a user's email\n",
    "    def update_user_email(user_id, new_email):\n",
    "        try:\n",
    "            cursor.execute('''\n",
    "                UPDATE Users\n",
    "                SET Email = %s\n",
    "                WHERE Id = %s\n",
    "            ''', (new_email, user_id))\n",
    "            conn.commit()\n",
    "            print(f\"User ID={user_id} email updated to '{new_email}'.\")\n",
    "        except Error as e:\n",
    "            print(f\"Error: {e}\")\n",
    "\n",
    "    # Delete a user by ID\n",
    "    def delete_user(user_id):\n",
    "        try:\n",
    "            cursor.execute('''\n",
    "                DELETE FROM Users WHERE Id = %s\n",
    "            ''', (user_id,))\n",
    "            conn.commit()\n",
    "            print(f\"User ID={user_id} deleted successfully.\")\n",
    "        except Error as e:\n",
    "            print(f\"Error: {e}\")\n",
    "\n",
    "    # Example operations\n",
    "    create_user('Alice', 'alice@example.com')\n",
    "    create_user('Bob', 'bob@example.com')\n",
    "\n",
    "    read_user(1)\n",
    "\n",
    "    update_user_email(1, 'alice_new@example.com')\n",
    "\n",
    "    delete_user(2)\n",
    "\n",
    "except Error as e:\n",
    "    print(f\"Error: {e}\")\n",
    "\n",
    "finally:\n",
    "    if conn.is_connected():\n",
    "        cursor.close()\n",
    "        conn.close()\n",
    "        print(\"Connection closed.\")"
   ]
  },
  {
   "cell_type": "code",
   "execution_count": 3,
   "id": "8f827cda-ceb4-4fb5-8404-7fc063ffb2f7",
   "metadata": {},
   "outputs": [
    {
     "name": "stdout",
     "output_type": "stream",
     "text": [
      "Successfully connected to MySQL\n"
     ]
    }
   ],
   "source": [
    "import mysql.connector\n",
    "from mysql.connector import Error\n",
    "\n",
    "# Connect to MySQL\n",
    "try:\n",
    "    connection = mysql.connector.connect(\n",
    "        host='localhost',\n",
    "        user='root',\n",
    "        password='daanvi19'\n",
    "    )\n",
    "    if connection.is_connected():\n",
    "        print(\"Successfully connected to MySQL\")\n",
    "except Error as e:\n",
    "    print(f\"Error: {e}\")\n"
   ]
  },
  {
   "cell_type": "markdown",
   "id": "d785b304-fb68-46d6-a77f-b9b3088afd1b",
   "metadata": {},
   "source": [
    "Create a Database and Table"
   ]
  },
  {
   "cell_type": "code",
   "execution_count": 5,
   "id": "2cacb55f-dd77-4fac-86e5-3f87511b4aac",
   "metadata": {},
   "outputs": [
    {
     "name": "stdout",
     "output_type": "stream",
     "text": [
      "Database and table created successfully\n"
     ]
    }
   ],
   "source": [
    "try:\n",
    "    # Create a new database and table\n",
    "    cursor = connection.cursor()\n",
    "    \n",
    "    # Create database\n",
    "    cursor.execute(\"CREATE DATABASE IF NOT EXISTS user_management\")\n",
    "    \n",
    "    # Use the new database\n",
    "    cursor.execute(\"USE user_management\")\n",
    "    \n",
    "    # Create table\n",
    "    cursor.execute(\"\"\"\n",
    "    CREATE TABLE IF NOT EXISTS users (\n",
    "        id INT AUTO_INCREMENT PRIMARY KEY,\n",
    "        name VARCHAR(255) NOT NULL,\n",
    "        email VARCHAR(255) NOT NULL UNIQUE,\n",
    "        created_at TIMESTAMP DEFAULT CURRENT_TIMESTAMP\n",
    "    )\n",
    "    \"\"\")\n",
    "    \n",
    "    print(\"Database and table created successfully\")\n",
    "except Error as e:\n",
    "    print(f\"Error: {e}\")\n",
    "finally:\n",
    "    cursor.close()\n"
   ]
  },
  {
   "cell_type": "markdown",
   "id": "a9d5918c-b3ef-4ad8-bcf4-bbffd7312033",
   "metadata": {},
   "source": [
    "Insert Data into the Table"
   ]
  },
  {
   "cell_type": "code",
   "execution_count": 7,
   "id": "a8b2f191-c7c9-40e1-b00d-e1d02b14055c",
   "metadata": {},
   "outputs": [
    {
     "name": "stdout",
     "output_type": "stream",
     "text": [
      "Data inserted successfully\n"
     ]
    }
   ],
   "source": [
    "try:\n",
    "    cursor = connection.cursor()\n",
    "    \n",
    "    # Insert data\n",
    "    cursor.execute(\"INSERT INTO users (name, email) VALUES ('Alice Smith', 'alice@example.com')\")\n",
    "    cursor.execute(\"INSERT INTO users (name, email) VALUES ('Bob Johnson', 'bob@example.com')\")\n",
    "    \n",
    "    # Commit the changes\n",
    "    connection.commit()\n",
    "    \n",
    "    print(\"Data inserted successfully\")\n",
    "except Error as e:\n",
    "    print(f\"Error: {e}\")\n",
    "finally:\n",
    "    cursor.close()\n"
   ]
  },
  {
   "cell_type": "markdown",
   "id": "5b93aa99-4568-403b-8a95-c93952648451",
   "metadata": {},
   "source": [
    "Read Data from the Table"
   ]
  },
  {
   "cell_type": "code",
   "execution_count": 9,
   "id": "567e18b0-cc4e-4c29-b845-3261315bc6be",
   "metadata": {},
   "outputs": [
    {
     "name": "stdout",
     "output_type": "stream",
     "text": [
      "All users: [{'id': 2, 'name': 'Jane Doe', 'email': 'jane.doe@example.com', 'created_at': datetime.datetime(2024, 8, 8, 17, 0, 57)}, {'id': 15, 'name': 'Alice Smith', 'email': 'alice@example.com', 'created_at': datetime.datetime(2024, 8, 9, 17, 2, 39)}, {'id': 16, 'name': 'Bob Johnson', 'email': 'bob@example.com', 'created_at': datetime.datetime(2024, 8, 9, 17, 2, 39)}]\n",
      "Specific user: {'id': 15, 'name': 'Alice Smith', 'email': 'alice@example.com', 'created_at': datetime.datetime(2024, 8, 9, 17, 2, 39)}\n"
     ]
    }
   ],
   "source": [
    "try:\n",
    "    cursor = connection.cursor(dictionary=True)\n",
    "    \n",
    "    # Retrieve all users\n",
    "    cursor.execute(\"SELECT * FROM users\")\n",
    "    all_users = cursor.fetchall()\n",
    "    \n",
    "    print(\"All users:\", all_users)\n",
    "    \n",
    "    # Retrieve a specific user\n",
    "    cursor.execute(\"SELECT * FROM users WHERE name = 'Alice Smith'\")\n",
    "    specific_user = cursor.fetchone()\n",
    "    \n",
    "    print(\"Specific user:\", specific_user)\n",
    "except Error as e:\n",
    "    print(f\"Error: {e}\")\n",
    "finally:\n",
    "    cursor.close()\n"
   ]
  },
  {
   "cell_type": "markdown",
   "id": "866e3dae-3705-48eb-9a26-9a5fd592ef84",
   "metadata": {},
   "source": [
    "Update Data in the Table"
   ]
  },
  {
   "cell_type": "code",
   "execution_count": 11,
   "id": "f535d4d8-7e29-4dd1-92ea-505eec62e7ba",
   "metadata": {},
   "outputs": [
    {
     "name": "stdout",
     "output_type": "stream",
     "text": [
      "Data updated successfully\n"
     ]
    }
   ],
   "source": [
    "try:\n",
    "    cursor = connection.cursor()\n",
    "    \n",
    "    # Update an existing user's email\n",
    "    cursor.execute(\"UPDATE users SET email = 'alice.smith@example.com' WHERE name = 'Alice Smith'\")\n",
    "    \n",
    "    # Commit the changes\n",
    "    connection.commit()\n",
    "    \n",
    "    print(\"Data updated successfully\")\n",
    "except Error as e:\n",
    "    print(f\"Error: {e}\")\n",
    "finally:\n",
    "    cursor.close()\n"
   ]
  },
  {
   "cell_type": "markdown",
   "id": "5c14a3ef-a276-48f6-9c35-ed7a312adc97",
   "metadata": {},
   "source": [
    "Delete Data from the Table"
   ]
  },
  {
   "cell_type": "code",
   "execution_count": 13,
   "id": "2dbceba2-5fa0-4543-a16d-d93069386488",
   "metadata": {},
   "outputs": [
    {
     "name": "stdout",
     "output_type": "stream",
     "text": [
      "Data deleted successfully\n"
     ]
    }
   ],
   "source": [
    "try:\n",
    "    cursor = connection.cursor()\n",
    "    \n",
    "    # Delete a user\n",
    "    cursor.execute(\"DELETE FROM users WHERE name = 'Bob Johnson'\")\n",
    "    \n",
    "    # Commit the changes\n",
    "    connection.commit()\n",
    "    \n",
    "    print(\"Data deleted successfully\")\n",
    "except Error as e:\n",
    "    print(f\"Error: {e}\")\n",
    "finally:\n",
    "    cursor.close()\n"
   ]
  },
  {
   "cell_type": "markdown",
   "id": "18e99e74-d13a-410a-b378-21cb33a56616",
   "metadata": {},
   "source": [
    "Drop the Table and Database (Cleanup)"
   ]
  },
  {
   "cell_type": "code",
   "execution_count": 15,
   "id": "068dce9b-463a-41b7-8eac-de27173fc6ca",
   "metadata": {},
   "outputs": [
    {
     "name": "stdout",
     "output_type": "stream",
     "text": [
      "Table and database dropped successfully\n"
     ]
    }
   ],
   "source": [
    "try:\n",
    "    cursor = connection.cursor()\n",
    "    \n",
    "    # Drop the table\n",
    "    cursor.execute(\"DROP TABLE IF EXISTS users\")\n",
    "    \n",
    "    # Drop the database\n",
    "    cursor.execute(\"DROP DATABASE IF EXISTS user_management\")\n",
    "    \n",
    "    print(\"Table and database dropped successfully\")\n",
    "except Error as e:\n",
    "    print(f\"Error: {e}\")\n",
    "finally:\n",
    "    cursor.close()\n"
   ]
  },
  {
   "cell_type": "markdown",
   "id": "5c85d464-0c3f-4bc1-a423-f80752e735cd",
   "metadata": {},
   "source": [
    "Close the Connection"
   ]
  },
  {
   "cell_type": "code",
   "execution_count": 17,
   "id": "047cad3a-c4b2-468c-9c9b-c99d6f903ab2",
   "metadata": {},
   "outputs": [
    {
     "name": "stdout",
     "output_type": "stream",
     "text": [
      "MySQL connection closed\n"
     ]
    }
   ],
   "source": [
    "if connection.is_connected():\n",
    "    connection.close()\n",
    "    print(\"MySQL connection closed\")\n"
   ]
  },
  {
   "cell_type": "markdown",
   "id": "57353966-8b04-41b3-9c1d-2eacdab61567",
   "metadata": {},
   "source": [
    "Considerations for using MySQL:\n",
    "\n",
    "1. Data Integrity: Utilize constraints and indexing to maintain data accuracy and performance.\n",
    " \n",
    "2. Scalability: Consider partitioning and sharding for handling large datasets and high traffic.\n",
    " \n",
    "3. Backup and Recovery: Implement regular backups and a robust recovery strategy to prevent data loss.\n",
    " \n",
    "4. Security: Secure access with strong passwords, encryption, and user privileges.\n",
    "   \n",
    "5. Performance Tuning: Optimize queries, use caching, and monitor performance to ensure efficient operations.\n",
    "\n",
    "\n",
    "\n",
    "\n",
    "\n"
   ]
  }
 ],
 "metadata": {
  "kernelspec": {
   "display_name": "Python 3 (ipykernel)",
   "language": "python",
   "name": "python3"
  },
  "language_info": {
   "codemirror_mode": {
    "name": "ipython",
    "version": 3
   },
   "file_extension": ".py",
   "mimetype": "text/x-python",
   "name": "python",
   "nbconvert_exporter": "python",
   "pygments_lexer": "ipython3",
   "version": "3.12.4"
  }
 },
 "nbformat": 4,
 "nbformat_minor": 5
}
